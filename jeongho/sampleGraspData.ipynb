{
 "cells": [
  {
   "cell_type": "code",
   "execution_count": null,
   "id": "0f2a3929-63ae-4749-92e9-887176003415",
   "metadata": {},
   "outputs": [],
   "source": [
    "경로 찾기에서 찾은 json 파일 파악하기"
   ]
  },
  {
   "cell_type": "code",
   "execution_count": 1,
   "id": "2ea2f34f-0b0a-4a21-be6f-4afdf021f8c3",
   "metadata": {},
   "outputs": [
    {
     "name": "stdout",
     "output_type": "stream",
     "text": [
      "{'기본정보': {'Language': 'KOR', 'Version': 'N/A', 'ApplicationCategory': 'N/A', 'NumberOfSpeaker': '0032', 'NumberOfUtterance': 'N/A', 'DataCategory': 'ReadSpeech', 'RecordingDate': 'N/A', 'FillingDate': 'N/A', 'RevisionHistory': 'N/A', 'Distributor': 'MediaZen'}, '음성정보': {'SamplingRate': '48000', 'NumberOfBit': '16', 'ByteOrder': 'N/A', 'EncodingLaw': 'SignedIntegerPCM', 'NumberOfChannel': '1', 'SignalToNoiseRatio': 'N/A'}, '전사정보': {'OrgLabelText': '그렇지만 자기의 지낸 일로 미루어 보아도 그럴 수가 없었다.', 'TransLabelText': '그렇지만 자기의 지낸 일로 미루어 보아도 그럴 수가 없었다.', 'RefinedLabelText': '', 'ModifyLabelText': '0'}, '화자정보': {'SpeakerName': 'KDD', 'Gender': 'Male', 'Age': '40~49', 'Region': 'Seoul', 'Dialect': 'NotProvidied', 'Emotion': 'Sad', 'Sensitivity': '괴롭다', 'SpeechStyle': 'N/A', 'Character': 'N/A', 'CharacterEmotion': 'N/A'}, '환경정보': {'RecordingEnviron': 'RecordingBooth', 'NoiseEnviron': 'Soundproof', 'RecordingDevice': 'RecordingMIC'}, '파일정보': {'FileCategory': 'Audio', 'FileName': '0032_G1A4E2S0C0_KDD_000168.wav', 'DirectoryPath': '/0032_G1A4E2S0C0_KDD', 'HeaderSize': 'N/A', 'FileLength': 5.34, 'FileFormat': 'WAV', 'NumberOfRepeat': '1', 'TimeInterval': 'N/A', 'Distance': 'N/A'}, '기타정보': {'QualityStatus': 'Good', 'SpeechStart': 0.3, 'SpeechEnd': 5.04}}\n"
     ]
    }
   ],
   "source": [
    "import json\n",
    "\n",
    "# JSON 파일 경로\n",
    "json_file = \"/data/audio1/unzipped_TL1/TL1/folder_1/folder_1/0032_G1A4E2S0C0_KDD/0032_G1A4E2S0C0_KDD_000168.json\"\n",
    "\n",
    "# 원천데이터 경로\n",
    "# /data/audio1/unzipped_TS1/TS1/folder_1/folder_1/0032_G1A4E2S0C0_KDD/0032_G1A4E2S0C0_KDD_001066.wav\n",
    "\n",
    "# JSON 파일 읽기\n",
    "with open(json_file, \"r\") as file:\n",
    "    data = json.load(file)\n",
    "\n",
    "\n",
    "print(data)  # 전체 데이터 출력"
   ]
  },
  {
   "cell_type": "code",
   "execution_count": 5,
   "id": "71c2f696-8d3c-4aad-9315-a4e557c7853f",
   "metadata": {},
   "outputs": [
    {
     "name": "stdout",
     "output_type": "stream",
     "text": [
      "Sad\n",
      "괴롭다\n",
      "0032_G1A4E2S0C0_KDD_000168.wav\n",
      "/0032_G1A4E2S0C0_KDD\n"
     ]
    }
   ],
   "source": [
    "print(data[\"화자정보\"][\"Emotion\"]);\n",
    "print(data[\"화자정보\"][\"Sensitivity\"]);\n",
    "print(data[\"파일정보\"][\"FileName\"])\n",
    "print(data[\"파일정보\"][\"DirectoryPath\"])"
   ]
  },
  {
   "cell_type": "code",
   "execution_count": null,
   "id": "df40847c-284f-4501-874d-523fb74e717c",
   "metadata": {},
   "outputs": [],
   "source": []
  }
 ],
 "metadata": {
  "kernelspec": {
   "display_name": "Python 3 (ipykernel)",
   "language": "python",
   "name": "python3"
  },
  "language_info": {
   "codemirror_mode": {
    "name": "ipython",
    "version": 3
   },
   "file_extension": ".py",
   "mimetype": "text/x-python",
   "name": "python",
   "nbconvert_exporter": "python",
   "pygments_lexer": "ipython3",
   "version": "3.11.0rc1"
  }
 },
 "nbformat": 4,
 "nbformat_minor": 5
}
