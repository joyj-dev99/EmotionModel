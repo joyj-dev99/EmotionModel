{
 "cells": [
  {
   "cell_type": "code",
   "execution_count": null,
   "id": "0bce217d-459d-4dbf-9ca2-a2052d7d9b23",
   "metadata": {},
   "outputs": [],
   "source": [
    "import os\n",
    "import librosa\n",
    "import numpy as np\n",
    "\n",
    "# 데이터 경로 설정\n",
    "train_path = \"/data/audio1/unzipped_TS1\"\n",
    "val_path = \"/data/audio1/unzipped_VS1\"\n",
    "\n",
    "# Mel-Spectrogram 변환 함수\n",
    "def preprocess_audio(file_path, n_mels=128):\n",
    "    \"\"\"오디오 데이터를 Mel-Spectrogram으로 변환.\"\"\"\n",
    "    y, sr = librosa.load(file_path, sr=16000)\n",
    "    mel_spectrogram = librosa.feature.melspectrogram(y, sr=sr, n_mels=n_mels)\n",
    "    log_mel_spectrogram = librosa.power_to_db(mel_spectrogram)\n",
    "    return log_mel_spectrogram\n"
   ]
  },
  {
   "cell_type": "code",
   "execution_count": null,
   "id": "4968ac5c-641e-4665-84af-6b54819adfcd",
   "metadata": {},
   "outputs": [],
   "source": [
    "# 레이블 매핑 함수\n",
    "def generate_labels(data_path):\n",
    "    \"\"\"파일 이름에서 레이블 생성.\"\"\"\n",
    "    label_mapping = {\"happy\": 0, \"sad\": 1, \"formal\": 2, \"informal\": 3}  # 예시 레이블 매핑\n",
    "    file_paths = []\n",
    "    labels = []\n",
    "\n",
    "    for f in os.listdir(data_path):\n",
    "        if f.endswith('.wav'):\n",
    "            for key, value in label_mapping.items():\n",
    "                if key in f.lower():\n",
    "                    file_paths.append(os.path.join(data_path, f))\n",
    "                    labels.append(value)\n",
    "                    break\n",
    "    return file_paths, labels\n",
    "\n",
    "# 훈련 및 검증 데이터 로드\n",
    "train_files, train_labels = generate_labels(train_path)\n",
    "val_files, val_labels = generate_labels(val_path)\n",
    "\n",
    "print(f\"훈련 데이터 개수: {len(train_files)}\")\n",
    "print(f\"검증 데이터 개수: {len(val_files)}\")\n"
   ]
  },
  {
   "cell_type": "code",
   "execution_count": null,
   "id": "1b6dea47-8ed8-49ce-a43f-4d3900cd2669",
   "metadata": {},
   "outputs": [],
   "source": [
    "from torch.utils.data import Dataset\n",
    "\n",
    "class AudioDataset(Dataset):\n",
    "    def __init__(self, file_paths, labels):\n",
    "        self.file_paths = file_paths\n",
    "        self.labels = labels\n",
    "        assert len(self.file_paths) == len(self.labels), \"파일 수와 레이블 수가 맞지 않습니다.\"\n",
    "\n",
    "    def __len__(self):\n",
    "        return len(self.file_paths)\n",
    "\n",
    "    def __getitem__(self, idx):\n",
    "        spectrogram = preprocess_audio(self.file_paths[idx])\n",
    "        spectrogram = np.expand_dims(spectrogram, axis=0)  # 채널 추가\n",
    "        label = self.labels[idx]\n",
    "        return torch.tensor(spectrogram, dtype=torch.float32), torch.tensor(label)\n"
   ]
  },
  {
   "cell_type": "code",
   "execution_count": null,
   "id": "e9c46db5-da2d-45b4-b67f-0c5d8dc85af7",
   "metadata": {},
   "outputs": [],
   "source": [
    "import torch\n",
    "from torch import nn\n",
    "from torchvision import models\n",
    "\n",
    "class AudioClassifier(nn.Module):\n",
    "    def __init__(self, num_classes):\n",
    "        super(AudioClassifier, self).__init__()\n",
    "        self.base_model = models.mobilenet_v3_small(pretrained=True)\n",
    "        self.base_model.features[0][0] = nn.Conv2d(1, 16, kernel_size=3, stride=2, padding=1, bias=False)  # 채널 조정\n",
    "        self.base_model.classifier[-1] = nn.Linear(self.base_model.classifier[-1].in_features, num_classes)\n",
    "\n",
    "    def forward(self, x):\n",
    "        return self.base_model(x)\n"
   ]
  },
  {
   "cell_type": "code",
   "execution_count": null,
   "id": "3687684e-d46f-49d8-9447-8494189e640d",
   "metadata": {},
   "outputs": [],
   "source": [
    "from torch.utils.data import DataLoader\n",
    "\n",
    "# 데이터셋 생성\n",
    "train_dataset = AudioDataset(train_files, train_labels)\n",
    "val_dataset = AudioDataset(val_files, val_labels)\n",
    "\n",
    "# 데이터 로더 생성\n",
    "train_loader = DataLoader(train_dataset, batch_size=16, shuffle=True)\n",
    "val_loader = DataLoader(val_dataset, batch_size=16, shuffle=False)\n"
   ]
  },
  {
   "cell_type": "code",
   "execution_count": null,
   "id": "593970fe-fcd5-4ff3-a4f6-2dda5a5f386f",
   "metadata": {},
   "outputs": [],
   "source": [
    "def train_model(model, train_loader, val_loader, num_epochs=10, learning_rate=0.001):\n",
    "    \"\"\"MobileNetV3 모델 학습 및 검증.\"\"\"\n",
    "    criterion = nn.CrossEntropyLoss()\n",
    "    optimizer = torch.optim.Adam(model.parameters(), lr=learning_rate)\n",
    "\n",
    "    for epoch in range(num_epochs):\n",
    "        # 훈련 단계\n",
    "        model.train()\n",
    "        train_loss = 0\n",
    "        for spectrograms, labels in train_loader:\n",
    "            outputs = model(spectrograms)\n",
    "            loss = criterion(outputs, labels)\n",
    "            optimizer.zero_grad()\n",
    "            loss.backward()\n",
    "            optimizer.step()\n",
    "            train_loss += loss.item()\n",
    "\n",
    "        # 검증 단계\n",
    "        model.eval()\n",
    "        val_loss = 0\n",
    "        correct = 0\n",
    "        total = 0\n",
    "        with torch.no_grad():\n",
    "            for spectrograms, labels in val_loader:\n",
    "                outputs = model(spectrograms)\n",
    "                loss = criterion(outputs, labels)\n",
    "                val_loss += loss.item()\n",
    "                _, predicted = torch.max(outputs, 1)\n",
    "                total += labels.size(0)\n",
    "                correct += (predicted == labels).sum().item()\n",
    "\n",
    "        print(f\"Epoch {epoch+1}/{num_epochs}, \"\n",
    "              f\"Train Loss: {train_loss/len(train_loader):.4f}, \"\n",
    "              f\"Val Loss: {val_loss/len(val_loader):.4f}, \"\n",
    "              f\"Val Accuracy: {100 * correct / total:.2f}%\")\n"
   ]
  },
  {
   "cell_type": "code",
   "execution_count": null,
   "id": "9c6febd2-53b9-48d2-8766-769cffef6ddb",
   "metadata": {},
   "outputs": [],
   "source": [
    "# 모델 초기화\n",
    "num_classes = len(set(train_labels))  # 고유 레이블 수\n",
    "model = AudioClassifier(num_classes=num_classes)\n",
    "\n",
    "# 학습 실행\n",
    "train_model(model, train_loader, val_loader, num_epochs=10, learning_rate=0.001)\n"
   ]
  },
  {
   "cell_type": "code",
   "execution_count": null,
   "id": "0705b439-26a4-49fa-b484-ec9774f6b85b",
   "metadata": {},
   "outputs": [],
   "source": [
    "torch.save(model.state_dict(), \"mobilenet_audio_model.pth\")\n",
    "print(\"Model saved as mobilenet_audio_model.pth\")\n"
   ]
  },
  {
   "cell_type": "code",
   "execution_count": null,
   "id": "89fbc0d8-191f-4ee6-bd5c-f02e395a4e2b",
   "metadata": {},
   "outputs": [],
   "source": [
    "def predict(model, file_path):\n",
    "    \"\"\"새로운 데이터 예측.\"\"\"\n",
    "    spectrogram = preprocess_audio(file_path)\n",
    "    spectrogram = torch.tensor(np.expand_dims(spectrogram, axis=0), dtype=torch.float32)\n",
    "    spectrogram = spectrogram.unsqueeze(0)\n",
    "\n",
    "    model.eval()\n",
    "    with torch.no_grad():\n",
    "        outputs = model(spectrogram)\n",
    "        _, predicted = torch.max(outputs, 1)\n",
    "        return predicted.item()\n",
    "\n",
    "# 예측 실행\n",
    "test_file = \"/path/to/test/audio.wav\"\n",
    "predicted_class = predict(model, test_file)\n",
    "print(f\"Predicted class: {predicted_class}\")\n"
   ]
  }
 ],
 "metadata": {
  "kernelspec": {
   "display_name": "Python 3 (ipykernel)",
   "language": "python",
   "name": "python3"
  },
  "language_info": {
   "codemirror_mode": {
    "name": "ipython",
    "version": 3
   },
   "file_extension": ".py",
   "mimetype": "text/x-python",
   "name": "python",
   "nbconvert_exporter": "python",
   "pygments_lexer": "ipython3",
   "version": "3.11.0rc1"
  }
 },
 "nbformat": 4,
 "nbformat_minor": 5
}
