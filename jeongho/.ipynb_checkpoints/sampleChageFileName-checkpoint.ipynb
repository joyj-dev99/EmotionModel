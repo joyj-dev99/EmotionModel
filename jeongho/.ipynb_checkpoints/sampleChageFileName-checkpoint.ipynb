{
 "cells": [
  {
   "cell_type": "code",
   "execution_count": null,
   "id": "4fcb8876-fd1e-4296-8179-3f006235fa2c",
   "metadata": {},
   "outputs": [],
   "source": [
    "폴더 구조와 라벨링 형식 파악"
   ]
  },
  {
   "cell_type": "code",
   "execution_count": 31,
   "id": "1b77a601-92e2-49f8-86a2-e043bdf06639",
   "metadata": {},
   "outputs": [
    {
     "name": "stdout",
     "output_type": "stream",
     "text": [
      "Renamed: 4.┤ы╚н├╝ -> folder_1\n",
      "Renamed: 5.┴▀░ш├╝ -> folder_2\n",
      "Renamed: 2.│╢╡╢├╝ -> folder_3\n",
      "Renamed: 3.┤║╜║├╝ -> folder_4\n",
      "Renamed: 1.▒╕┐м├╝ -> folder_5\n"
     ]
    }
   ],
   "source": [
    "import os\n",
    "\n",
    "directory = \"/data/audio1/unzipped_VS1/folder_4\"\n",
    "\n",
    "# 파일 이름 강제 변경\n",
    "# folder_1 - 갯수만큼\n",
    "for i, folder in enumerate(os.listdir(directory), start=1):\n",
    "    folder_path = os.path.join(directory, folder)\n",
    "    if os.path.isdir(folder_path):\n",
    "        try:\n",
    "            # 새 이름 생성\n",
    "            new_name = f\"folder_{i}\"\n",
    "            new_path = os.path.join(directory, new_name)\n",
    "            os.rename(folder_path, new_path)\n",
    "            print(f\"Renamed: {folder} -> {new_name}\")\n",
    "        except Exception as e:\n",
    "            print(f\"Error renaming folder '{folder}': {e}\")\n"
   ]
  },
  {
   "cell_type": "code",
   "execution_count": null,
   "id": "c6f4c7ff-db8d-4f62-9a1d-a32f2824b3dc",
   "metadata": {},
   "outputs": [],
   "source": []
  }
 ],
 "metadata": {
  "kernelspec": {
   "display_name": "Python 3 (ipykernel)",
   "language": "python",
   "name": "python3"
  },
  "language_info": {
   "codemirror_mode": {
    "name": "ipython",
    "version": 3
   },
   "file_extension": ".py",
   "mimetype": "text/x-python",
   "name": "python",
   "nbconvert_exporter": "python",
   "pygments_lexer": "ipython3",
   "version": "3.11.0rc1"
  }
 },
 "nbformat": 4,
 "nbformat_minor": 5
}
