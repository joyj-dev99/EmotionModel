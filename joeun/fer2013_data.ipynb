{
 "cells": [
  {
   "cell_type": "code",
   "execution_count": null,
   "id": "4cd78c9f-4732-4f7c-8a25-e816b7c7ccf6",
   "metadata": {},
   "outputs": [],
   "source": [
    "import pandas as pd\n",
    "import numpy as np\n",
    "import tensorflow as tf\n",
    "import matplotlib.pyplot as plt"
   ]
  },
  {
   "cell_type": "markdown",
   "id": "e7a68049-2387-473c-908a-6ad425799c66",
   "metadata": {},
   "source": [
    "# 데이터 로드"
   ]
  },
  {
   "cell_type": "code",
   "execution_count": null,
   "id": "5e0017fb-bd77-4b3a-9c75-3a8f1712b069",
   "metadata": {},
   "outputs": [],
   "source": [
    "# CSV 파일 경로\n",
    "fer2013_path = '/data/face1/fer/fer2013/fer2013.csv'\n",
    "\n",
    "# CSV 파일 읽기\n",
    "data = pd.read_csv(fer2013_path)\n",
    "\n",
    "# 데이터 확인\n",
    "print(data.head())  # 상위 5개 행 출력\n",
    "print(data.info())  # 데이터 정보 출력"
   ]
  },
  {
   "cell_type": "code",
   "execution_count": null,
   "id": "18aae4ed-56e6-457e-9766-bf45c26d7e9e",
   "metadata": {},
   "outputs": [],
   "source": [
    "# Usage 열의 값 종류 확인\n",
    "usage_values = data['Usage'].unique()\n",
    "print(\"Usage 열의 고유 값:\", usage_values)"
   ]
  },
  {
   "cell_type": "code",
   "execution_count": null,
   "id": "0d00225f-54c5-442a-be7b-e6a4785f5e74",
   "metadata": {},
   "outputs": [],
   "source": [
    "# 감정 라벨 정의\n",
    "emotion_labels = {\n",
    "    0: 'Angry',\n",
    "    1: 'Disgust',\n",
    "    2: 'Fear',\n",
    "    3: 'Happy',\n",
    "    4: 'Sad',\n",
    "    5: 'Surprise',\n",
    "    6: 'Neutral'\n",
    "}\n",
    "\n",
    "# emotion 값별 데이터 개수 세기\n",
    "emotion_counts = data['emotion'].value_counts().sort_index()  # 감정별 데이터 개수\n",
    "emotion_counts.index = emotion_counts.index.map(emotion_labels)  # 숫자 라벨을 감정 이름으로 매핑\n",
    "\n",
    "# 출력\n",
    "print(\"감정별 데이터 개수\")\n",
    "print(emotion_counts)"
   ]
  },
  {
   "cell_type": "markdown",
   "id": "65ff32a5-6396-4786-ab5a-c785001b2442",
   "metadata": {},
   "source": [
    "# Usage 칼럼 기준으로 데이터 나누기"
   ]
  },
  {
   "cell_type": "code",
   "execution_count": null,
   "id": "2eda4099-fd0e-4f3b-9fe9-f6c687e96b48",
   "metadata": {},
   "outputs": [],
   "source": [
    "# Usage 값에 따라 데이터 분리\n",
    "training_data = data[data['Usage'] == 'Training']\n",
    "public_test_data = data[data['Usage'] == 'PublicTest']\n",
    "private_test_data = data[data['Usage'] == 'PrivateTest']"
   ]
  },
  {
   "cell_type": "code",
   "execution_count": null,
   "id": "d9a2e0a6-7549-40ff-8ea9-d597aa5fe380",
   "metadata": {},
   "outputs": [],
   "source": [
    "# Training 데이터의 감정 라벨별 갯수\n",
    "training_emotion_counts = training_data['emotion'].value_counts()\n",
    "\n",
    "# PublicTest 데이터의 감정 라벨별 갯수\n",
    "public_test_emotion_counts = public_test_data['emotion'].value_counts()\n",
    "\n",
    "# PrivateTest 데이터의 감정 라벨별 갯수\n",
    "private_test_emotion_counts = private_test_data['emotion'].value_counts()"
   ]
  },
  {
   "cell_type": "code",
   "execution_count": null,
   "id": "48c1d533-b522-4913-bd6d-c58635b537c9",
   "metadata": {},
   "outputs": [],
   "source": [
    "# 감정 라벨별 분포를 시각화하는 함수\n",
    "def plot_emotion_distribution(emotion_counts, title):\n",
    "    plt.figure(figsize=(8, 6))\n",
    "    sns.barplot(x=emotion_counts.index, y=emotion_counts.values, palette=\"viridis\")\n",
    "    plt.title(title, fontsize=16)\n",
    "    plt.xlabel(\"Emotion Label\", fontsize=14)\n",
    "    plt.ylabel(\"Count\", fontsize=14)\n",
    "    plt.xticks(fontsize=12)\n",
    "    plt.yticks(fontsize=12)\n",
    "    plt.show()\n"
   ]
  },
  {
   "cell_type": "code",
   "execution_count": null,
   "id": "acfc757a-ab73-4a75-b7d9-9cd2fccfb8f6",
   "metadata": {},
   "outputs": [],
   "source": [
    "import seaborn as sns\n",
    "\n",
    "# Training 데이터 감정 라벨 분포\n",
    "plot_emotion_distribution(training_emotion_counts, \"Training Data Emotion Distribution\")"
   ]
  },
  {
   "cell_type": "code",
   "execution_count": null,
   "id": "b56309b0-822a-486d-bb13-32ef65b19b4a",
   "metadata": {},
   "outputs": [],
   "source": []
  },
  {
   "cell_type": "code",
   "execution_count": null,
   "id": "bdb615d2-3798-43c9-a606-12f247afa75b",
   "metadata": {},
   "outputs": [],
   "source": []
  }
 ],
 "metadata": {
  "kernelspec": {
   "display_name": "Python 3 (ipykernel)",
   "language": "python",
   "name": "python3"
  },
  "language_info": {
   "codemirror_mode": {
    "name": "ipython",
    "version": 3
   },
   "file_extension": ".py",
   "mimetype": "text/x-python",
   "name": "python",
   "nbconvert_exporter": "python",
   "pygments_lexer": "ipython3",
   "version": "3.11.0rc1"
  }
 },
 "nbformat": 4,
 "nbformat_minor": 5
}
